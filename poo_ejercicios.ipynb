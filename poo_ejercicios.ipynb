{
    "metadata": {
        "kernelspec": {
            "name": "python3",
            "display_name": "Python 3 (ipykernel)",
            "language": "python"
        },
        "language_info": {
            "name": "python",
            "version": "3.9.7",
            "mimetype": "text/x-python",
            "codemirror_mode": {
                "name": "ipython",
                "version": 3
            },
            "pygments_lexer": "ipython3",
            "nbconvert_exporter": "python",
            "file_extension": ".py"
        }
    },
    "nbformat_minor": 2,
    "nbformat": 4,
    "cells": [
        {
            "cell_type": "markdown",
            "source": [
                "- 1. Realizar un programa que conste de una clase llamada Alumno que tenga como atributos el nombre y la nota del alumno pedir estos atributos por la entrada estándar, definir los métodos para inicializar, imprimir y mostrar un mensaje con el resultado de la nota y se ha aprobado o no."
            ],
            "metadata": {
                "azdata_cell_guid": "e8712c6a-c36f-49fc-b66e-364ea0ddb912"
            },
            "attachments": {}
        },
        {
            "cell_type": "code",
            "source": [
                "class Alumno:\r\n",
                "    def __init__(self):\r\n",
                "        self.nombre = input(\"Introduce nombre del alumno: \")\r\n",
                "        self.nota = int(input(\"Introduce nota del alumno: \"))\r\n",
                "\r\n",
                "    def imprimir(self):\r\n",
                "        print(\"-\"*len(\"El alumno ha reprobado\"))\r\n",
                "        print(\"Alumno:\", self.nombre)\r\n",
                "        print(\"Nota:\", self.nota)\r\n",
                "        if self.nota < 5:\r\n",
                "            print(\"El alumno ha reprobado\")\r\n",
                "        else:\r\n",
                "            print(\"El alumno ha aprobado\")\r\n",
                "        print()\r\n",
                "\r\n",
                "alumno1 = Alumno()\r\n",
                "alumno2 = Alumno()\r\n",
                "\r\n",
                "alumno1.imprimir()\r\n",
                "alumno2.imprimir()"
            ],
            "metadata": {
                "azdata_cell_guid": "d9f2b981-f17f-4809-ac06-54b76021d934",
                "language": "python",
                "tags": [
                    "hide_input"
                ]
            },
            "outputs": [],
            "execution_count": null
        }
    ]
}