{
    "metadata": {
        "kernelspec": {
            "name": "python3",
            "display_name": "Python 3 (ipykernel)",
            "language": "python"
        },
        "language_info": {
            "name": "python",
            "version": "3.9.7",
            "mimetype": "text/x-python",
            "codemirror_mode": {
                "name": "ipython",
                "version": 3
            },
            "pygments_lexer": "ipython3",
            "nbconvert_exporter": "python",
            "file_extension": ".py"
        }
    },
    "nbformat_minor": 2,
    "nbformat": 4,
    "cells": [
        {
            "cell_type": "markdown",
            "source": [
                "- 1. Realizar un programa que conste de una clase llamada Alumno que tenga como atributos el nombre y la nota del alumno pedir estos atributos por la entrada estándar, definir los métodos para inicializar, imprimir y mostrar un mensaje con el resultado de la nota y se ha aprobado o no."
            ],
            "metadata": {
                "azdata_cell_guid": "e8712c6a-c36f-49fc-b66e-364ea0ddb912"
            },
            "attachments": {}
        },
        {
            "cell_type": "code",
            "source": [
                "class Alumno:\r\n",
                "    def __init__(self):\r\n",
                "        self.nombre = input(\"Introduce nombre del alumno: \")\r\n",
                "        self.nota = int(input(\"Introduce nota del alumno: \"))\r\n",
                "\r\n",
                "    def imprimir(self):\r\n",
                "        print(\"-\"*len(\"El alumno ha reprobado\"))\r\n",
                "        print(\"Alumno:\", self.nombre)\r\n",
                "        print(\"Nota:\", self.nota)\r\n",
                "        if self.nota < 5:\r\n",
                "            print(\"El alumno ha reprobado\")\r\n",
                "        else:\r\n",
                "            print(\"El alumno ha aprobado\")\r\n",
                "        print()\r\n",
                "\r\n",
                "alumno1 = Alumno()\r\n",
                "alumno2 = Alumno()\r\n",
                "\r\n",
                "alumno1.imprimir()\r\n",
                "alumno2.imprimir()"
            ],
            "metadata": {
                "azdata_cell_guid": "d9f2b981-f17f-4809-ac06-54b76021d934",
                "language": "python",
                "tags": [
                    "hide_input"
                ]
            },
            "outputs": [],
            "execution_count": null
        },
        {
            "cell_type": "markdown",
            "source": [
                "2. Crear una clase Producto con los siguientes atributos:\r\n",
                "- código\r\n",
                "- nombre\r\n",
                "- precio\r\n",
                "\r\n",
                "Crear, su constructor, getter y setter y con la siguiente funcionalidad:  \r\n",
                "- calcular_total  \r\n",
                "donde le pasaremos unas unidades y nos debe calcular el precio final."
            ],
            "metadata": {
                "language": "python",
                "azdata_cell_guid": "4bdcbc60-f2b7-404b-83ba-469015b1ba04"
            },
            "attachments": {}
        },
        {
            "cell_type": "code",
            "source": [
                "class Producto:\r\n",
                "    def __init__(self, codigo, nombre, precio):\r\n",
                "        self.__codigo = codigo\r\n",
                "        self.__nombre = nombre \r\n",
                "        self.__precio = precio\r\n",
                "\r\n",
                "    @property\r\n",
                "    def codigo(self):\r\n",
                "        return self.__codigo\r\n",
                "    @codigo.setter\r\n",
                "    def codigo(self, valor):\r\n",
                "        self.__codigo = valor\r\n",
                "\r\n",
                "    @property\r\n",
                "    def nombre(self):\r\n",
                "        return self.__nombre\r\n",
                "    @nombre.setter\r\n",
                "    def nombre(self, valor):\r\n",
                "        self.__nombre = valor\r\n",
                "\r\n",
                "    @property\r\n",
                "    def precio(self):\r\n",
                "        return self.__precio\r\n",
                "    @precio.setter\r\n",
                "    def precio(self, valor):\r\n",
                "        self.__precio = valor\r\n",
                "    \r\n",
                "    def __str__(self):\r\n",
                "        return 'Código: ' + str(self.__codigo) + ', nombre: ' + self.__nombre + ', precio: ' +str(self.__precio)\r\n",
                "\r\n",
                "    def calcular_total(self, unidades):\r\n",
                "        return self.__precio * unidades\r\n",
                "\r\n",
                "p1 = Producto(1, \"Producto 1\", 500)\r\n",
                "p2 = Producto(2, \"Producto 2\", 10)\r\n",
                "p3 = Producto(3, \"Producto 3\", 20)\r\n",
                "\r\n",
                "for producto in (p1, p2, p3):\r\n",
                "    print(producto, end=\", total con 10 unidades: \")\r\n",
                "    print(producto.calcular_total(10))\r\n",
                "    "
            ],
            "metadata": {
                "language": "python",
                "azdata_cell_guid": "39c35cc3-3a6a-4a92-b436-88a96f4bcd7a"
            },
            "outputs": [
                {
                    "name": "stdout",
                    "text": "Código: 1, nombre: Producto 1, precio: 500, total con 10 unidades: 5000\nCódigo: 2, nombre: Producto 2, precio: 10, total con 10 unidades: 100\nCódigo: 3, nombre: Producto 3, precio: 20, total con 10 unidades: 200\n",
                    "output_type": "stream"
                }
            ],
            "execution_count": 6
        },
        {
            "cell_type": "markdown",
            "source": [
                "3. Añadir una clase pedido que tiene como atributos:\r\n",
                "    - lista de precio\r\n",
                "    - lista de cantidades  \r\n",
                "- Añade las siguientes funcionalidades:\r\n",
                "    - total_pedido: muestra el precio final del pedido\r\n",
                "    - mostrar_producto: muestra los productos del pedido\r\n",
                ""
            ],
            "metadata": {
                "language": "python",
                "azdata_cell_guid": "471fe8a1-5540-48d2-848a-0058fd781b88"
            },
            "attachments": {}
        },
        {
            "cell_type": "code",
            "source": [
                "class Pedido:\r\n",
                "    def __init__(self, productos, cantidades):\r\n",
                "        self.__productos = productos\r\n",
                "        self.__cantidades = cantidades\r\n",
                "    \r\n",
                "    def total_pedido(self):\r\n",
                "        total = 0\r\n",
                "        for (p, c) in zip(self.__productos, self.__cantidades):\r\n",
                "            total = total +p.calcular_total(c)\r\n",
                "        return total\r\n",
                "\r\n",
                "    def mostrar_pedido(self):\r\n",
                "        for (p, c) in zip(self.__productos, self.__cantidades):\r\n",
                "            print('Producto -> (', p.nombre, ', Cantidad:', str(c), ')')\r\n",
                "\r\n",
                "p1 = Producto(1, 'Producto 1', 5)\r\n",
                "p2 = Producto(2, 'Producto 1', 13)\r\n",
                "p3 = Producto(3, 'Producto 1', 20)\r\n",
                "\r\n",
                "productos = [p1, p2, p3]\r\n",
                "cantidades = [2, 10, 4]\r\n",
                "\r\n",
                "pedido = Pedido(productos, cantidades)\r\n",
                "print('Total pedidos', str(pedido.total_pedido()))\r\n",
                "print(pedido.mostrar_pedido())"
            ],
            "metadata": {
                "language": "python",
                "azdata_cell_guid": "9ca369cd-7479-4574-bf1f-58e1770efd74",
                "tags": []
            },
            "outputs": [
                {
                    "name": "stdout",
                    "text": "Total pedidos 220\nProducto -> ( Producto 1 , Cantidad: 2 )\nProducto -> ( Producto 1 , Cantidad: 10 )\nProducto -> ( Producto 1 , Cantidad: 4 )\nNone\n",
                    "output_type": "stream"
                }
            ],
            "execution_count": 13
        }
    ]
}